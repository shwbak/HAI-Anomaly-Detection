{
  "cells": [
    {
      "cell_type": "markdown",
      "metadata": {
        "id": "view-in-github",
        "colab_type": "text"
      },
      "source": [
        "<a href=\"https://colab.research.google.com/github/shwbak/HAI-Anomaly-Detection/blob/main/GAN%EC%9D%84_%EC%9D%B4%EC%9A%A9%ED%95%9C_Anomaly_Detection_ipyn.ipynb\" target=\"_parent\"><img src=\"https://colab.research.google.com/assets/colab-badge.svg\" alt=\"Open In Colab\"/></a>"
      ]
    },
    {
      "cell_type": "markdown",
      "source": [
        "#SSH 키 발급"
      ],
      "metadata": {
        "id": "LR0RbtGq9wux"
      }
    },
    {
      "cell_type": "code",
      "source": [
        "!ssh-keygen"
      ],
      "metadata": {
        "colab": {
          "base_uri": "https://localhost:8080/"
        },
        "id": "7yaV4PRgrdw0",
        "outputId": "48fcbe9b-cdb2-456d-8bd2-418f5eca01f9"
      },
      "execution_count": 1,
      "outputs": [
        {
          "output_type": "stream",
          "name": "stdout",
          "text": [
            "Generating public/private rsa key pair.\n",
            "Enter file in which to save the key (/root/.ssh/id_rsa): \n",
            "Created directory '/root/.ssh'.\n",
            "Enter passphrase (empty for no passphrase): \n",
            "Enter same passphrase again: \n",
            "Your identification has been saved in /root/.ssh/id_rsa\n",
            "Your public key has been saved in /root/.ssh/id_rsa.pub\n",
            "The key fingerprint is:\n",
            "SHA256:o4fXqWnQTY1Fblm9+ksMo4RMC2QEvK3AHIb9mpwVhcg root@ab9bd7976038\n",
            "The key's randomart image is:\n",
            "+---[RSA 3072]----+\n",
            "|  + o.==   .. .. |\n",
            "| . E +o    ..o  .|\n",
            "|  + o +. . ++   .|\n",
            "|   + + .+ =..  . |\n",
            "|  . * ..S* . o.  |\n",
            "|   = ..o.oo...+  |\n",
            "|      o.o o.  .o |\n",
            "|       o.o    .. |\n",
            "|       .o      ..|\n",
            "+----[SHA256]-----+\n"
          ]
        }
      ]
    },
    {
      "cell_type": "code",
      "source": [
        "%cd ~/.ssh/"
      ],
      "metadata": {
        "colab": {
          "base_uri": "https://localhost:8080/"
        },
        "id": "cq31E8Fwrskn",
        "outputId": "54f88385-a98b-4ff4-b5de-95fb07f6aeec"
      },
      "execution_count": 2,
      "outputs": [
        {
          "output_type": "stream",
          "name": "stdout",
          "text": [
            "/root/.ssh\n"
          ]
        }
      ]
    },
    {
      "cell_type": "code",
      "source": [
        "! cat id_rsa.pub"
      ],
      "metadata": {
        "colab": {
          "base_uri": "https://localhost:8080/"
        },
        "id": "j1Wkirlirwn4",
        "outputId": "a752d322-5ffa-4397-ea10-8e1186638dad"
      },
      "execution_count": 3,
      "outputs": [
        {
          "output_type": "stream",
          "name": "stdout",
          "text": [
            "ssh-rsa AAAAB3NzaC1yc2EAAAADAQABAAABgQC0W+e8qQtMo/m3EbyC4cIn1ayrgfxzGn9eb4J//tgk+dvFD+kbHwQmaNeqzpHHmUs67EJ+Qi+RMNUCcfktmd0a8zFz+TmYcq4Y1pg5ueio6A7vjcXXdT+/8yGZ60CIfbXcfa+0J8Bk2diw8H8WM5fKgLZIJaOncnu210V4oQbgVECad6Qhb4q98DeAkdxEGxs2cNExP4Yvkh7SqciHSXlXtg5v/3ZeKYwwB2UJU9eJkfQtiF85NFsXDGzh6jsPcobhaYDxVtHBZLBD8A+8rhcwJoMGt21iuq+EQA8QG1wYfTla5IcO790OlKtYc3+HQlm7Ijo1xKGKrcf1UQbc46TY+nPXIev/rjxJCdDpMrMN7Vm6GFdE+WKHsfMgvIt36q4nMR+cp0pmuCHJy+NADq5kJOo6XTXkndGiEI9GD6Qt9QKFm9D5ROHcU+aCTlLlPSMByQxaURX7j7aRgCdGkLolSV7NchEAI+W8bMgcqL5+I5lAe/49S1G4Dsr42Bbba6U= root@ab9bd7976038\n"
          ]
        }
      ]
    },
    {
      "cell_type": "markdown",
      "source": [
        "# Git 연동 확인"
      ],
      "metadata": {
        "id": "TmW-DIw4-RG6"
      }
    },
    {
      "cell_type": "code",
      "source": [
        "!ssh-keyscan -t rsa github.com >> ~/.ssh/known_hosts"
      ],
      "metadata": {
        "colab": {
          "base_uri": "https://localhost:8080/"
        },
        "id": "l09UEvc3sWOW",
        "outputId": "77f64866-d992-42d1-c843-d368285f7f9b"
      },
      "execution_count": 4,
      "outputs": [
        {
          "output_type": "stream",
          "name": "stdout",
          "text": [
            "# github.com:22 SSH-2.0-babeld-68a4aa58\n"
          ]
        }
      ]
    },
    {
      "cell_type": "code",
      "source": [
        "!ssh -T git@github.com"
      ],
      "metadata": {
        "colab": {
          "base_uri": "https://localhost:8080/"
        },
        "id": "6bYDdRsYsaPx",
        "outputId": "ad6d6635-87f9-4ab1-a006-8fd9f6a32121"
      },
      "execution_count": 5,
      "outputs": [
        {
          "output_type": "stream",
          "name": "stdout",
          "text": [
            "Warning: Permanently added the RSA host key for IP address '140.82.112.3' to the list of known hosts.\n",
            "git@github.com: Permission denied (publickey).\n"
          ]
        }
      ]
    },
    {
      "cell_type": "markdown",
      "source": [
        "#구글드라이브 마운트"
      ],
      "metadata": {
        "id": "yBiB1ZKq9icr"
      }
    },
    {
      "cell_type": "code",
      "source": [
        "from google.colab import drive\n",
        "drive.mount('/content/drive')"
      ],
      "metadata": {
        "id": "Nbz0RPrpyIDO",
        "outputId": "f5104be2-a86c-402f-8f5b-d4d0ae3abce8",
        "colab": {
          "base_uri": "https://localhost:8080/"
        }
      },
      "execution_count": 6,
      "outputs": [
        {
          "output_type": "stream",
          "name": "stdout",
          "text": [
            "Mounted at /content/drive\n"
          ]
        }
      ]
    },
    {
      "cell_type": "markdown",
      "source": [
        "#Github Origin을 Pull"
      ],
      "metadata": {
        "id": "RLYENj-D9ZlH"
      }
    },
    {
      "cell_type": "code",
      "source": [
        "from os.path import join\n",
        "from os import makedirs\n",
        "\n",
        "PROJ_path = \"/content/drive/MyDrive/Colab Notebooks/\"\n",
        "%cd \"{PROJ_path}\"\n",
        "try:\n",
        "  makedirs(\"HAI-Anomaly-Detection\")\n",
        "except:\n",
        "  print(\"동일한 이름의 폴더가 이미 존재합니다.\")"
      ],
      "metadata": {
        "id": "Qy71-ZoH_VK3",
        "outputId": "59abf6a9-c85d-4c92-b974-121b9829cec3",
        "colab": {
          "base_uri": "https://localhost:8080/"
        }
      },
      "execution_count": 7,
      "outputs": [
        {
          "output_type": "stream",
          "name": "stdout",
          "text": [
            "/content/drive/MyDrive/Colab Notebooks\n",
            "동일한 이름의 폴더가 이미 존재합니다.\n"
          ]
        }
      ]
    },
    {
      "cell_type": "code",
      "source": [
        "REPO_path = \"/content/drive/MyDrive/Colab Notebooks/HAI-Anomaly-Detection/\"\n",
        "%cd \"{REPO_path}\"\n",
        "!git init\n",
        "!git remote add origin https://github.com/shwbak/HAI-Anomaly-Detection\n",
        "\n",
        "!pip install --upgrade git-lfs\n",
        "\n",
        "!git lfs install\n",
        "!git lfs track \"*.csv\"\n",
        "!git add .gitattributes\n",
        "\n",
        "!git pull origin main"
      ],
      "metadata": {
        "colab": {
          "base_uri": "https://localhost:8080/"
        },
        "id": "OipKG1CwzLLS",
        "outputId": "ab60e6d2-6076-45fb-9592-2c02826bfcdb"
      },
      "execution_count": 8,
      "outputs": [
        {
          "output_type": "stream",
          "name": "stdout",
          "text": [
            "/content/drive/MyDrive/Colab Notebooks/HAI-Anomaly-Detection\n",
            "Reinitialized existing Git repository in /content/drive/MyDrive/Colab Notebooks/HAI-Anomaly-Detection/.git/\n",
            "fatal: remote origin already exists.\n",
            "Looking in indexes: https://pypi.org/simple, https://us-python.pkg.dev/colab-wheels/public/simple/\n",
            "Collecting git-lfs\n",
            "  Downloading git_lfs-1.6-py2.py3-none-any.whl (5.6 kB)\n",
            "Installing collected packages: git-lfs\n",
            "Successfully installed git-lfs-1.6\n",
            "Updated git hooks.\n",
            "Git LFS initialized.\n",
            "\"*.csv\" already supported\n",
            "From https://github.com/shwbak/HAI-Anomaly-Detection\n",
            " * branch            main       -> FETCH_HEAD\n",
            "Already up to date.\n"
          ]
        }
      ]
    },
    {
      "cell_type": "markdown",
      "source": [
        "#소스코드"
      ],
      "metadata": {
        "id": "LVpTIEQuHJ4x"
      }
    },
    {
      "cell_type": "code",
      "source": [
        "%cd \"{REPO_path}\"\n",
        "!pip install eTaPR-21.8.2-py3-none-any.whl"
      ],
      "metadata": {
        "id": "4WJuAYjj6hiq",
        "outputId": "a8a99317-424c-40e6-92a5-79b5a7a5bf1a",
        "colab": {
          "base_uri": "https://localhost:8080/"
        }
      },
      "execution_count": 9,
      "outputs": [
        {
          "output_type": "stream",
          "name": "stdout",
          "text": [
            "/content/drive/MyDrive/Colab Notebooks/HAI-Anomaly-Detection\n",
            "Looking in indexes: https://pypi.org/simple, https://us-python.pkg.dev/colab-wheels/public/simple/\n",
            "Processing ./eTaPR-21.8.2-py3-none-any.whl\n",
            "Installing collected packages: eTaPR\n",
            "Successfully installed eTaPR-21.8.2\n"
          ]
        }
      ]
    },
    {
      "cell_type": "code",
      "execution_count": 10,
      "metadata": {
        "id": "1KX7LwgoG2hs"
      },
      "outputs": [],
      "source": [
        "import numpy as np\n",
        "import pandas as pd\n",
        "import matplotlib.pyplot as plt\n",
        "import seaborn as sns\n",
        "import torch\n",
        "\n",
        "def get_default_device():\n",
        "    if torch.cuda.is_available():\n",
        "        return torch.device('cuda')\n",
        "    else:\n",
        "        return torch.device('cpu')\n",
        "\n",
        "def to_device(data, device):\n",
        "    if isinstance(data, (list,tuple)):\n",
        "        return [to_device(x, device) for x in data]\n",
        "    return data.to(device, non_blocking=True)\n",
        "    \n",
        "def plot_history(history):\n",
        "    losses1 = [x['val_loss1'] for x in history]\n",
        "    losses2 = [x['val_loss2'] for x in history]\n",
        "    plt.plot(losses1, '-x', label=\"loss1\")\n",
        "    plt.plot(losses2, '-x', label=\"loss2\")\n",
        "    plt.xlabel('epoch')\n",
        "    plt.ylabel('loss')\n",
        "    plt.legend()\n",
        "    plt.title('Losses vs. No. of epochs')\n",
        "    plt.grid()\n",
        "    plt.show()"
      ]
    },
    {
      "cell_type": "code",
      "execution_count": 11,
      "metadata": {
        "id": "jyLJpAcxG2h0"
      },
      "outputs": [],
      "source": [
        "import torch.nn as nn\n",
        "\n",
        "device = get_default_device()\n",
        "\n",
        "class Encoder(nn.Module):\n",
        "    def __init__(self, in_size, latent_size):\n",
        "        super().__init__()\n",
        "        self.linear1 = nn.Linear(in_size, int(in_size/2))\n",
        "        self.linear2 = nn.Linear(int(in_size/2), int(in_size/4))\n",
        "        self.linear3 = nn.Linear(int(in_size/4), latent_size)\n",
        "        self.relu = nn.ReLU(True)\n",
        "        \n",
        "    def forward(self, w):\n",
        "        out = self.linear1(w)\n",
        "        out = self.relu(out)\n",
        "        out = self.linear2(out)\n",
        "        out = self.relu(out)\n",
        "        out = self.linear3(out)\n",
        "        z = self.relu(out)\n",
        "        return z\n",
        "    \n",
        "class Decoder(nn.Module):\n",
        "    def __init__(self, latent_size, out_size):\n",
        "        super().__init__()\n",
        "        self.linear1 = nn.Linear(latent_size, int(out_size/4))\n",
        "        self.linear2 = nn.Linear(int(out_size/4), int(out_size/2))\n",
        "        self.linear3 = nn.Linear(int(out_size/2), out_size)\n",
        "        self.relu = nn.ReLU(True)\n",
        "        self.sigmoid = nn.Sigmoid()\n",
        "        \n",
        "    def forward(self, z):\n",
        "        out = self.linear1(z)\n",
        "        out = self.relu(out)\n",
        "        out = self.linear2(out)\n",
        "        out = self.relu(out)\n",
        "        out = self.linear3(out)\n",
        "        w = self.sigmoid(out)\n",
        "        return w\n",
        "    \n",
        "class UsadModel(nn.Module):\n",
        "    def __init__(self, w_size, z_size):\n",
        "        super().__init__()\n",
        "        self.encoder = Encoder(w_size, z_size)\n",
        "        self.decoder1 = Decoder(z_size, w_size)\n",
        "        self.decoder2 = Decoder(z_size, w_size)\n",
        "  \n",
        "    def training_step(self, batch, n):\n",
        "        z = self.encoder(batch)\n",
        "        w1 = self.decoder1(z)\n",
        "        w2 = self.decoder2(z)\n",
        "        w3 = self.decoder2(self.encoder(w1))\n",
        "        loss1 = 1/n*torch.mean((batch-w1)**2)+(1-1/n)*torch.mean((batch-w3)**2)\n",
        "        loss2 = 1/n*torch.mean((batch-w2)**2)-(1-1/n)*torch.mean((batch-w3)**2)\n",
        "        return loss1,loss2\n",
        "\n",
        "    def validation_step(self, batch, n):\n",
        "        z = self.encoder(batch)\n",
        "        w1 = self.decoder1(z)\n",
        "        w2 = self.decoder2(z)\n",
        "        w3 = self.decoder2(self.encoder(w1))\n",
        "        loss1 = 1/n*torch.mean((batch-w1)**2)+(1-1/n)*torch.mean((batch-w3)**2)\n",
        "        loss2 = 1/n*torch.mean((batch-w2)**2)-(1-1/n)*torch.mean((batch-w3)**2)\n",
        "        return {'val_loss1': loss1, 'val_loss2': loss2}\n",
        "        \n",
        "    def validation_epoch_end(self, outputs):\n",
        "        batch_losses1 = [x['val_loss1'] for x in outputs]\n",
        "        epoch_loss1 = torch.stack(batch_losses1).mean()\n",
        "        batch_losses2 = [x['val_loss2'] for x in outputs]\n",
        "        epoch_loss2 = torch.stack(batch_losses2).mean()\n",
        "        return {'val_loss1': epoch_loss1.item(), 'val_loss2': epoch_loss2.item()}\n",
        "\n",
        "    def epoch_end(self, epoch, result):\n",
        "        print(\"Epoch [{}], val_loss1: {:.4f}, val_loss2: {:.4f}\".format(epoch, result['val_loss1'], result['val_loss2']))\n",
        "    \n",
        "def evaluate(model, val_loader, n):\n",
        "    outputs = [model.validation_step(to_device(batch,device), n) for [batch] in val_loader]\n",
        "    return model.validation_epoch_end(outputs)\n",
        "\n",
        "def training(epochs, model, train_loader, val_loader, opt_func=torch.optim.AdamW):\n",
        "    history = []\n",
        "    optimizer1 = opt_func(list(model.encoder.parameters())+list(model.decoder1.parameters()))\n",
        "    optimizer2 = opt_func(list(model.encoder.parameters())+list(model.decoder2.parameters()))\n",
        "    for epoch in range(epochs):\n",
        "        for [batch] in train_loader:\n",
        "            batch=to_device(batch,device)\n",
        "            \n",
        "            #Train AE1\n",
        "            loss1,loss2 = model.training_step(batch,epoch+1)\n",
        "            loss1.backward()\n",
        "            optimizer1.step()\n",
        "            optimizer1.zero_grad()\n",
        "            \n",
        "            \n",
        "            #Train AE2\n",
        "            loss1,loss2 = model.training_step(batch,epoch+1)\n",
        "            loss2.backward()\n",
        "            optimizer2.step()\n",
        "            optimizer2.zero_grad()\n",
        "            \n",
        "            \n",
        "        result = evaluate(model, val_loader, epoch+1)\n",
        "        model.epoch_end(epoch, result)\n",
        "        history.append(result)\n",
        "    return history\n",
        "    \n",
        "def testing(model, test_loader, alpha=.5, beta=.5):\n",
        "    results=[]\n",
        "    for [batch] in test_loader:\n",
        "        batch=to_device(batch,device)\n",
        "        w1=model.decoder1(model.encoder(batch))\n",
        "        w2=model.decoder2(model.encoder(w1))\n",
        "        results.append(alpha*torch.mean((batch-w1)**2,axis=1)+beta*torch.mean((batch-w2)**2,axis=1))\n",
        "    return results"
      ]
    },
    {
      "cell_type": "code",
      "execution_count": 12,
      "metadata": {
        "id": "cLZlqG_rG2h3"
      },
      "outputs": [],
      "source": [
        "import sys\n",
        "\n",
        "from pathlib import Path\n",
        "from datetime import timedelta\n",
        "\n",
        "import dateutil\n",
        "import numpy as np\n",
        "import matplotlib.pyplot as plt\n",
        "import pandas as pd\n",
        "import torch\n",
        "\n",
        "from torch.utils.data import Dataset, DataLoader\n",
        "from tqdm.notebook import trange\n",
        "from TaPR_pkg import etapr\n",
        "from tqdm import tqdm"
      ]
    },
    {
      "cell_type": "code",
      "execution_count": 13,
      "metadata": {
        "id": "0gfs5L7dG2h5"
      },
      "outputs": [],
      "source": [
        "def dataframe_from_csv(target):\n",
        "    return pd.read_csv(target).rename(columns=lambda x: x.strip())\n",
        "\n",
        "def dataframe_from_csvs(targets):\n",
        "    return pd.concat([dataframe_from_csv(x) for x in targets])"
      ]
    },
    {
      "cell_type": "code",
      "execution_count": 14,
      "metadata": {
        "id": "75YHtxeDG2h7"
      },
      "outputs": [],
      "source": [
        "TRAIN_DATASET = sorted([x for x in Path(\"/content/drive/MyDrive/Colab Notebooks/HAI-Anomaly-Detection/HAICon2021_dataset/train/\").glob(\"*.csv\")])\n",
        "TEST_DATASET = sorted([x for x in Path(\"/content/drive/MyDrive/Colab Notebooks/HAI-Anomaly-Detection/HAICon2021_dataset/test/\").glob(\"*.csv\")])\n",
        "VALIDATION_DATASET = sorted([x for x in Path(\"/content/drive/MyDrive/Colab Notebooks/HAI-Anomaly-Detection/HAICon2021_dataset/validation/\").glob(\"*.csv\")])"
      ]
    },
    {
      "cell_type": "code",
      "execution_count": 15,
      "metadata": {
        "id": "jKfvMq_8G2h8",
        "outputId": "c54904cd-78b1-4cf0-8740-8bcaf5abc616",
        "colab": {
          "base_uri": "https://localhost:8080/",
          "height": 254
        }
      },
      "outputs": [
        {
          "output_type": "stream",
          "name": "stdout",
          "text": [
            "(1004402, 87)\n"
          ]
        },
        {
          "output_type": "execute_result",
          "data": {
            "text/plain": [
              "             timestamp     C01  C02       C03      C04       C05     C06  \\\n",
              "0  2021-07-11 10:00:00 -2.2642    0  12.26196 -0.00087  12.01019  0.2254   \n",
              "1  2021-07-11 10:00:01 -2.4923    0  12.26196  0.00058  12.56714 -0.0711   \n",
              "2  2021-07-11 10:00:02 -2.8460    0  12.26196 -0.00072  14.48975  0.0051   \n",
              "3  2021-07-11 10:00:03 -2.1235    0  12.26196  0.00101  15.93170  0.1842   \n",
              "4  2021-07-11 10:00:04 -2.9074    0  12.26196  0.00043  16.10718  0.1842   \n",
              "\n",
              "        C07  C08  C09  ...      C77       C78      C79        C80        C81  \\\n",
              "0  12.66931   70    1  ...  0.92255  30.08042  7.08818  595.06104  276.40338   \n",
              "1  12.66931   70    1  ...  0.92255  30.08423  7.08818  531.50317  276.18634   \n",
              "2  12.66931   70    1  ...  0.91873  30.09148  7.08818  451.06253  279.85754   \n",
              "3  12.66931   70    1  ...  0.91644  30.10407  7.08818  404.38739  281.50317   \n",
              "4  12.66931   70    1  ...  0.91797  30.10331  7.08818  382.53925  281.34039   \n",
              "\n",
              "   C82         C83   C84  C85   C86  \n",
              "0    1  1014.79321  12.0   50  3506  \n",
              "1    1  1014.79321  12.0   50  3493  \n",
              "2    1  1014.79321  12.0   50  3490  \n",
              "3    1  1014.79321  12.0   50  3525  \n",
              "4    1  1014.79321  12.0   50  3503  \n",
              "\n",
              "[5 rows x 87 columns]"
            ],
            "text/html": [
              "\n",
              "  <div id=\"df-3bde675a-96af-46db-b5bf-a059884d7766\">\n",
              "    <div class=\"colab-df-container\">\n",
              "      <div>\n",
              "<style scoped>\n",
              "    .dataframe tbody tr th:only-of-type {\n",
              "        vertical-align: middle;\n",
              "    }\n",
              "\n",
              "    .dataframe tbody tr th {\n",
              "        vertical-align: top;\n",
              "    }\n",
              "\n",
              "    .dataframe thead th {\n",
              "        text-align: right;\n",
              "    }\n",
              "</style>\n",
              "<table border=\"1\" class=\"dataframe\">\n",
              "  <thead>\n",
              "    <tr style=\"text-align: right;\">\n",
              "      <th></th>\n",
              "      <th>timestamp</th>\n",
              "      <th>C01</th>\n",
              "      <th>C02</th>\n",
              "      <th>C03</th>\n",
              "      <th>C04</th>\n",
              "      <th>C05</th>\n",
              "      <th>C06</th>\n",
              "      <th>C07</th>\n",
              "      <th>C08</th>\n",
              "      <th>C09</th>\n",
              "      <th>...</th>\n",
              "      <th>C77</th>\n",
              "      <th>C78</th>\n",
              "      <th>C79</th>\n",
              "      <th>C80</th>\n",
              "      <th>C81</th>\n",
              "      <th>C82</th>\n",
              "      <th>C83</th>\n",
              "      <th>C84</th>\n",
              "      <th>C85</th>\n",
              "      <th>C86</th>\n",
              "    </tr>\n",
              "  </thead>\n",
              "  <tbody>\n",
              "    <tr>\n",
              "      <th>0</th>\n",
              "      <td>2021-07-11 10:00:00</td>\n",
              "      <td>-2.2642</td>\n",
              "      <td>0</td>\n",
              "      <td>12.26196</td>\n",
              "      <td>-0.00087</td>\n",
              "      <td>12.01019</td>\n",
              "      <td>0.2254</td>\n",
              "      <td>12.66931</td>\n",
              "      <td>70</td>\n",
              "      <td>1</td>\n",
              "      <td>...</td>\n",
              "      <td>0.92255</td>\n",
              "      <td>30.08042</td>\n",
              "      <td>7.08818</td>\n",
              "      <td>595.06104</td>\n",
              "      <td>276.40338</td>\n",
              "      <td>1</td>\n",
              "      <td>1014.79321</td>\n",
              "      <td>12.0</td>\n",
              "      <td>50</td>\n",
              "      <td>3506</td>\n",
              "    </tr>\n",
              "    <tr>\n",
              "      <th>1</th>\n",
              "      <td>2021-07-11 10:00:01</td>\n",
              "      <td>-2.4923</td>\n",
              "      <td>0</td>\n",
              "      <td>12.26196</td>\n",
              "      <td>0.00058</td>\n",
              "      <td>12.56714</td>\n",
              "      <td>-0.0711</td>\n",
              "      <td>12.66931</td>\n",
              "      <td>70</td>\n",
              "      <td>1</td>\n",
              "      <td>...</td>\n",
              "      <td>0.92255</td>\n",
              "      <td>30.08423</td>\n",
              "      <td>7.08818</td>\n",
              "      <td>531.50317</td>\n",
              "      <td>276.18634</td>\n",
              "      <td>1</td>\n",
              "      <td>1014.79321</td>\n",
              "      <td>12.0</td>\n",
              "      <td>50</td>\n",
              "      <td>3493</td>\n",
              "    </tr>\n",
              "    <tr>\n",
              "      <th>2</th>\n",
              "      <td>2021-07-11 10:00:02</td>\n",
              "      <td>-2.8460</td>\n",
              "      <td>0</td>\n",
              "      <td>12.26196</td>\n",
              "      <td>-0.00072</td>\n",
              "      <td>14.48975</td>\n",
              "      <td>0.0051</td>\n",
              "      <td>12.66931</td>\n",
              "      <td>70</td>\n",
              "      <td>1</td>\n",
              "      <td>...</td>\n",
              "      <td>0.91873</td>\n",
              "      <td>30.09148</td>\n",
              "      <td>7.08818</td>\n",
              "      <td>451.06253</td>\n",
              "      <td>279.85754</td>\n",
              "      <td>1</td>\n",
              "      <td>1014.79321</td>\n",
              "      <td>12.0</td>\n",
              "      <td>50</td>\n",
              "      <td>3490</td>\n",
              "    </tr>\n",
              "    <tr>\n",
              "      <th>3</th>\n",
              "      <td>2021-07-11 10:00:03</td>\n",
              "      <td>-2.1235</td>\n",
              "      <td>0</td>\n",
              "      <td>12.26196</td>\n",
              "      <td>0.00101</td>\n",
              "      <td>15.93170</td>\n",
              "      <td>0.1842</td>\n",
              "      <td>12.66931</td>\n",
              "      <td>70</td>\n",
              "      <td>1</td>\n",
              "      <td>...</td>\n",
              "      <td>0.91644</td>\n",
              "      <td>30.10407</td>\n",
              "      <td>7.08818</td>\n",
              "      <td>404.38739</td>\n",
              "      <td>281.50317</td>\n",
              "      <td>1</td>\n",
              "      <td>1014.79321</td>\n",
              "      <td>12.0</td>\n",
              "      <td>50</td>\n",
              "      <td>3525</td>\n",
              "    </tr>\n",
              "    <tr>\n",
              "      <th>4</th>\n",
              "      <td>2021-07-11 10:00:04</td>\n",
              "      <td>-2.9074</td>\n",
              "      <td>0</td>\n",
              "      <td>12.26196</td>\n",
              "      <td>0.00043</td>\n",
              "      <td>16.10718</td>\n",
              "      <td>0.1842</td>\n",
              "      <td>12.66931</td>\n",
              "      <td>70</td>\n",
              "      <td>1</td>\n",
              "      <td>...</td>\n",
              "      <td>0.91797</td>\n",
              "      <td>30.10331</td>\n",
              "      <td>7.08818</td>\n",
              "      <td>382.53925</td>\n",
              "      <td>281.34039</td>\n",
              "      <td>1</td>\n",
              "      <td>1014.79321</td>\n",
              "      <td>12.0</td>\n",
              "      <td>50</td>\n",
              "      <td>3503</td>\n",
              "    </tr>\n",
              "  </tbody>\n",
              "</table>\n",
              "<p>5 rows × 87 columns</p>\n",
              "</div>\n",
              "      <button class=\"colab-df-convert\" onclick=\"convertToInteractive('df-3bde675a-96af-46db-b5bf-a059884d7766')\"\n",
              "              title=\"Convert this dataframe to an interactive table.\"\n",
              "              style=\"display:none;\">\n",
              "        \n",
              "  <svg xmlns=\"http://www.w3.org/2000/svg\" height=\"24px\"viewBox=\"0 0 24 24\"\n",
              "       width=\"24px\">\n",
              "    <path d=\"M0 0h24v24H0V0z\" fill=\"none\"/>\n",
              "    <path d=\"M18.56 5.44l.94 2.06.94-2.06 2.06-.94-2.06-.94-.94-2.06-.94 2.06-2.06.94zm-11 1L8.5 8.5l.94-2.06 2.06-.94-2.06-.94L8.5 2.5l-.94 2.06-2.06.94zm10 10l.94 2.06.94-2.06 2.06-.94-2.06-.94-.94-2.06-.94 2.06-2.06.94z\"/><path d=\"M17.41 7.96l-1.37-1.37c-.4-.4-.92-.59-1.43-.59-.52 0-1.04.2-1.43.59L10.3 9.45l-7.72 7.72c-.78.78-.78 2.05 0 2.83L4 21.41c.39.39.9.59 1.41.59.51 0 1.02-.2 1.41-.59l7.78-7.78 2.81-2.81c.8-.78.8-2.07 0-2.86zM5.41 20L4 18.59l7.72-7.72 1.47 1.35L5.41 20z\"/>\n",
              "  </svg>\n",
              "      </button>\n",
              "      \n",
              "  <style>\n",
              "    .colab-df-container {\n",
              "      display:flex;\n",
              "      flex-wrap:wrap;\n",
              "      gap: 12px;\n",
              "    }\n",
              "\n",
              "    .colab-df-convert {\n",
              "      background-color: #E8F0FE;\n",
              "      border: none;\n",
              "      border-radius: 50%;\n",
              "      cursor: pointer;\n",
              "      display: none;\n",
              "      fill: #1967D2;\n",
              "      height: 32px;\n",
              "      padding: 0 0 0 0;\n",
              "      width: 32px;\n",
              "    }\n",
              "\n",
              "    .colab-df-convert:hover {\n",
              "      background-color: #E2EBFA;\n",
              "      box-shadow: 0px 1px 2px rgba(60, 64, 67, 0.3), 0px 1px 3px 1px rgba(60, 64, 67, 0.15);\n",
              "      fill: #174EA6;\n",
              "    }\n",
              "\n",
              "    [theme=dark] .colab-df-convert {\n",
              "      background-color: #3B4455;\n",
              "      fill: #D2E3FC;\n",
              "    }\n",
              "\n",
              "    [theme=dark] .colab-df-convert:hover {\n",
              "      background-color: #434B5C;\n",
              "      box-shadow: 0px 1px 3px 1px rgba(0, 0, 0, 0.15);\n",
              "      filter: drop-shadow(0px 1px 2px rgba(0, 0, 0, 0.3));\n",
              "      fill: #FFFFFF;\n",
              "    }\n",
              "  </style>\n",
              "\n",
              "      <script>\n",
              "        const buttonEl =\n",
              "          document.querySelector('#df-3bde675a-96af-46db-b5bf-a059884d7766 button.colab-df-convert');\n",
              "        buttonEl.style.display =\n",
              "          google.colab.kernel.accessAllowed ? 'block' : 'none';\n",
              "\n",
              "        async function convertToInteractive(key) {\n",
              "          const element = document.querySelector('#df-3bde675a-96af-46db-b5bf-a059884d7766');\n",
              "          const dataTable =\n",
              "            await google.colab.kernel.invokeFunction('convertToInteractive',\n",
              "                                                     [key], {});\n",
              "          if (!dataTable) return;\n",
              "\n",
              "          const docLinkHtml = 'Like what you see? Visit the ' +\n",
              "            '<a target=\"_blank\" href=https://colab.research.google.com/notebooks/data_table.ipynb>data table notebook</a>'\n",
              "            + ' to learn more about interactive tables.';\n",
              "          element.innerHTML = '';\n",
              "          dataTable['output_type'] = 'display_data';\n",
              "          await google.colab.output.renderOutput(dataTable, element);\n",
              "          const docLink = document.createElement('div');\n",
              "          docLink.innerHTML = docLinkHtml;\n",
              "          element.appendChild(docLink);\n",
              "        }\n",
              "      </script>\n",
              "    </div>\n",
              "  </div>\n",
              "  "
            ]
          },
          "metadata": {},
          "execution_count": 15
        }
      ],
      "source": [
        "TRAIN_DF_RAW = dataframe_from_csvs(TRAIN_DATASET)\n",
        "TRAIN_DF_RAW.reset_index(drop=True,inplace=True)\n",
        "\n",
        "TRAIN_DF_RAW_01 = dataframe_from_csv(TRAIN_DATASET[0])\n",
        "TRAIN_DF_RAW_01.reset_index(drop=True,inplace=True)\n",
        "\n",
        "TRAIN_DF_RAW_02 = dataframe_from_csv(TRAIN_DATASET[1])\n",
        "TRAIN_DF_RAW_02.reset_index(drop=True,inplace=True)\n",
        "\n",
        "TRAIN_DF_RAW_03 = dataframe_from_csv(TRAIN_DATASET[2])\n",
        "TRAIN_DF_RAW_03.reset_index(drop=True,inplace=True)\n",
        "\n",
        "TRAIN_DF_RAW_04 = dataframe_from_csv(TRAIN_DATASET[3])\n",
        "TRAIN_DF_RAW_04.reset_index(drop=True,inplace=True)\n",
        "\n",
        "TRAIN_DF_RAW_05 = dataframe_from_csv(TRAIN_DATASET[4])\n",
        "TRAIN_DF_RAW_05.reset_index(drop=True,inplace=True)\n",
        "\n",
        "TRAIN_DF_RAW_06 = dataframe_from_csv(TRAIN_DATASET[5])\n",
        "TRAIN_DF_RAW_06.reset_index(drop=True,inplace=True)\n",
        "\n",
        "print(TRAIN_DF_RAW.shape)\n",
        "TRAIN_DF_RAW.head()"
      ]
    },
    {
      "cell_type": "markdown",
      "metadata": {
        "id": "G6gSTmU2G2h-"
      },
      "source": [
        "아래 두 목록에는 중복된 장치들이 있으니 이 점 유의하시면 좋을 것 같습니다."
      ]
    },
    {
      "cell_type": "markdown",
      "metadata": {
        "id": "WJUc9ByWG2iB"
      },
      "source": [
        "변화가 없는 장치 목록\n",
        "- C22, C52, C63, C82, C85, C55, C36, C26, C49, C38, C39, C29, C18, C19, C09\n",
        "\n",
        "범주형 데이터 형태인 장치 목록\n",
        "- C02, C07, C08, C09, C10, C17, C18, C19, C22, C26, C29, C34, C35, C36, C38, C39, C46, C48, C49, C52, C55, C58, C61, C63, C64, C69, C79, C82, C85"
      ]
    },
    {
      "cell_type": "markdown",
      "metadata": {
        "id": "lBKusbN-G2iC"
      },
      "source": [
        "예측의 Loss 값이 튀는 경우를 없애주기 위해서 범주형 데이터의 경우 제외시켜주었습니다.\n",
        "\n",
        "하지만 유의미한 결과를 보지는 못했던 것 같습니다."
      ]
    },
    {
      "cell_type": "code",
      "execution_count": 16,
      "metadata": {
        "id": "v_OR2GimG2iD",
        "outputId": "061f6518-8e3b-4887-de76-5304680ceb45",
        "colab": {
          "base_uri": "https://localhost:8080/"
        }
      },
      "outputs": [
        {
          "output_type": "execute_result",
          "data": {
            "text/plain": [
              "Index(['C01', 'C03', 'C04', 'C05', 'C06', 'C11', 'C12', 'C13', 'C14', 'C15',\n",
              "       'C16', 'C20', 'C21', 'C23', 'C24', 'C25', 'C27', 'C28', 'C30', 'C31',\n",
              "       'C32', 'C33', 'C37', 'C40', 'C41', 'C42', 'C43', 'C44', 'C45', 'C47',\n",
              "       'C50', 'C51', 'C53', 'C54', 'C56', 'C57', 'C59', 'C60', 'C62', 'C65',\n",
              "       'C66', 'C67', 'C68', 'C70', 'C71', 'C72', 'C73', 'C74', 'C75', 'C76',\n",
              "       'C77', 'C78', 'C80', 'C81', 'C83', 'C84', 'C86'],\n",
              "      dtype='object')"
            ]
          },
          "metadata": {},
          "execution_count": 16
        }
      ],
      "source": [
        "TIMESTAMP_FIELD = \"timestamp\"\n",
        "DROP_FIELD = [\"C02\", \"C07\", \"C08\", \"C09\", \"C10\", \"C17\", \"C18\", \"C19\", \"C22\", \"C26\", \"C29\", \"C34\", \"C35\", \"C36\", \"C38\", \"C39\", \"C46\", \"C48\", \"C49\", \"C52\", \"C55\", \"C58\", \"C61\", \"C63\", \"C64\", \"C69\", \"C79\", \"C82\", \"C85\"]\n",
        "IDSTAMP_FIELD = 'id'\n",
        "ATTACK_FIELD = \"attack\"\n",
        "VALID_COLUMNS_IN_TRAIN_DATASET = TRAIN_DF_RAW_01.columns.drop([TIMESTAMP_FIELD])\n",
        "VALID_COLUMNS_IN_TRAIN_DATASET = VALID_COLUMNS_IN_TRAIN_DATASET.drop(DROP_FIELD)\n",
        "VALID_COLUMNS_IN_TRAIN_DATASET"
      ]
    },
    {
      "cell_type": "code",
      "execution_count": 17,
      "metadata": {
        "id": "OhpUfHrpG2iF"
      },
      "outputs": [],
      "source": [
        "TAG_MIN = TRAIN_DF_RAW[VALID_COLUMNS_IN_TRAIN_DATASET].min()\n",
        "TAG_MAX = TRAIN_DF_RAW[VALID_COLUMNS_IN_TRAIN_DATASET].max()"
      ]
    },
    {
      "cell_type": "code",
      "execution_count": 18,
      "metadata": {
        "id": "_jDT8hfvG2iF"
      },
      "outputs": [],
      "source": [
        "def normalize(df):\n",
        "    ndf = df.copy()\n",
        "    for c in df.columns:\n",
        "        if TAG_MIN[c] == TAG_MAX[c]:\n",
        "            ndf[c] = df[c] - TAG_MIN[c]\n",
        "        else:\n",
        "            ndf[c] = (df[c] - TAG_MIN[c]) / (TAG_MAX[c] - TAG_MIN[c])\n",
        "    return ndf"
      ]
    },
    {
      "cell_type": "code",
      "execution_count": 19,
      "metadata": {
        "id": "9tIs4X6eG2iG"
      },
      "outputs": [],
      "source": [
        "TRAIN_DF_01 = normalize(TRAIN_DF_RAW_01[VALID_COLUMNS_IN_TRAIN_DATASET]).ewm(alpha=0.9).mean()\n",
        "TRAIN_DF_02 = normalize(TRAIN_DF_RAW_02[VALID_COLUMNS_IN_TRAIN_DATASET]).ewm(alpha=0.9).mean()\n",
        "TRAIN_DF_03 = normalize(TRAIN_DF_RAW_03[VALID_COLUMNS_IN_TRAIN_DATASET]).ewm(alpha=0.9).mean()\n",
        "TRAIN_DF_04 = normalize(TRAIN_DF_RAW_04[VALID_COLUMNS_IN_TRAIN_DATASET]).ewm(alpha=0.9).mean()\n",
        "TRAIN_DF_05 = normalize(TRAIN_DF_RAW_05[VALID_COLUMNS_IN_TRAIN_DATASET]).ewm(alpha=0.9).mean()\n",
        "TRAIN_DF_06 = normalize(TRAIN_DF_RAW_06[VALID_COLUMNS_IN_TRAIN_DATASET]).ewm(alpha=0.9).mean()"
      ]
    },
    {
      "cell_type": "code",
      "execution_count": 20,
      "metadata": {
        "id": "3-fILSNqG2iH"
      },
      "outputs": [],
      "source": [
        "def boundary_check(df):\n",
        "    x = np.array(df, dtype=np.float32)\n",
        "    return np.any(x > 1.0), np.any(x < 0), np.any(np.isnan(x))"
      ]
    },
    {
      "cell_type": "code",
      "execution_count": 21,
      "metadata": {
        "id": "WAXOVCQ1G2iH"
      },
      "outputs": [],
      "source": [
        "window_size=12\n",
        "\n",
        "windows_normal_01 = TRAIN_DF_01.values[np.arange(window_size)[None, :] + np.arange(TRAIN_DF_01.shape[0]-window_size)[:, None]]\n",
        "windows_normal_02 = TRAIN_DF_02.values[np.arange(window_size)[None, :] + np.arange(TRAIN_DF_02.shape[0]-window_size)[:, None]]\n",
        "windows_normal_03 = TRAIN_DF_03.values[np.arange(window_size)[None, :] + np.arange(TRAIN_DF_03.shape[0]-window_size)[:, None]]\n",
        "windows_normal_04 = TRAIN_DF_04.values[np.arange(window_size)[None, :] + np.arange(TRAIN_DF_04.shape[0]-window_size)[:, None]]\n",
        "windows_normal_05 = TRAIN_DF_05.values[np.arange(window_size)[None, :] + np.arange(TRAIN_DF_05.shape[0]-window_size)[:, None]]\n",
        "windows_normal_06 = TRAIN_DF_06.values[np.arange(window_size)[None, :] + np.arange(TRAIN_DF_06.shape[0]-window_size)[:, None]]"
      ]
    },
    {
      "cell_type": "code",
      "execution_count": 22,
      "metadata": {
        "id": "nLRLVcsdG2iI"
      },
      "outputs": [],
      "source": [
        "import torch.utils.data as data_utils\n",
        "\n",
        "BATCH_SIZE =  7919\n",
        "N_EPOCHS = 100\n",
        "hidden_size = 100\n",
        "\n",
        "w_size=windows_normal_01.shape[1]*windows_normal_01.shape[2]\n",
        "z_size=windows_normal_01.shape[1]*hidden_size\n",
        "\n",
        "train_loader_01 = data_utils.TensorDataset(torch.from_numpy(windows_normal_01).float().view(([windows_normal_01.shape[0],w_size])))\n",
        "train_loader_02 = data_utils.TensorDataset(torch.from_numpy(windows_normal_02).float().view(([windows_normal_02.shape[0],w_size])))\n",
        "train_loader_03 = data_utils.TensorDataset(torch.from_numpy(windows_normal_03).float().view(([windows_normal_03.shape[0],w_size])))\n",
        "train_loader_04 = data_utils.TensorDataset(torch.from_numpy(windows_normal_04).float().view(([windows_normal_04.shape[0],w_size])))\n",
        "train_loader_05 = data_utils.TensorDataset(torch.from_numpy(windows_normal_05).float().view(([windows_normal_05.shape[0],w_size])))\n",
        "\n",
        "val_loader_01 = data_utils.TensorDataset(torch.from_numpy(windows_normal_06).float().view(([windows_normal_06.shape[0],w_size])))\n",
        "\n",
        "train_loader = torch.utils.data.DataLoader(data_utils.ConcatDataset(\n",
        "    [train_loader_01, train_loader_02, train_loader_03, train_loader_04, train_loader_05]\n",
        ") , batch_size=BATCH_SIZE, shuffle=False, num_workers=0)\n",
        "\n",
        "val_loader = torch.utils.data.DataLoader(val_loader_01, batch_size=BATCH_SIZE, shuffle=False, num_workers=0)"
      ]
    },
    {
      "cell_type": "code",
      "execution_count": null,
      "metadata": {
        "id": "KToD-Cs5G2iI"
      },
      "outputs": [],
      "source": [
        "model = UsadModel(w_size, z_size)\n",
        "model = to_device(model,device)"
      ]
    },
    {
      "cell_type": "code",
      "execution_count": null,
      "metadata": {
        "scrolled": true,
        "id": "BDyyg22iG2iJ"
      },
      "outputs": [],
      "source": [
        "history = training(N_EPOCHS,model,train_loader,val_loader)"
      ]
    },
    {
      "cell_type": "code",
      "execution_count": null,
      "metadata": {
        "id": "u1lyLII1G2iK"
      },
      "outputs": [],
      "source": [
        "plot_history(history)"
      ]
    },
    {
      "cell_type": "code",
      "execution_count": null,
      "metadata": {
        "id": "0Liv0M-nG2iL"
      },
      "outputs": [],
      "source": [
        "torch.save({\n",
        "            'encoder': model.encoder.state_dict(),\n",
        "            'decoder1': model.decoder1.state_dict(),\n",
        "            'decoder2': model.decoder2.state_dict()\n",
        "            }, \"./models/usad.pth\")"
      ]
    },
    {
      "cell_type": "code",
      "execution_count": null,
      "metadata": {
        "id": "kKHQqwSdG2iL"
      },
      "outputs": [],
      "source": [
        "checkpoint = torch.load(\"./models/usad.pth\")\n",
        "\n",
        "model.encoder.load_state_dict(checkpoint['encoder'])\n",
        "model.decoder1.load_state_dict(checkpoint['decoder1'])\n",
        "model.decoder2.load_state_dict(checkpoint['decoder2'])"
      ]
    },
    {
      "cell_type": "code",
      "execution_count": null,
      "metadata": {
        "id": "ZNkTMAPHG2iM"
      },
      "outputs": [],
      "source": [
        "VALIDATION_DF_RAW = dataframe_from_csv(VALIDATION_DATASET[0])\n",
        "VALIDATION_DF_RAW.reset_index(drop=True,inplace=True)"
      ]
    },
    {
      "cell_type": "code",
      "execution_count": null,
      "metadata": {
        "id": "LApgYolZG2iM"
      },
      "outputs": [],
      "source": [
        "VALIDATION_DF = normalize(VALIDATION_DF_RAW[VALID_COLUMNS_IN_TRAIN_DATASET]).ewm(alpha=0.9).mean()"
      ]
    },
    {
      "cell_type": "markdown",
      "metadata": {
        "id": "Qe85Wgj3G2iN"
      },
      "source": [
        "다양한 모델을 사용하였습니다만, Train Set을 기준으로 Min-Max Normalize를 진행한 뒤, Validation Set과 Test Set에 대해 Train Dataset의 Min값 혹은 Max값을 넘어가는 값에 x2, x1.5를 해주었을 경우 성능이 소폭 향상되는 모습을 보여주었습니다.\n",
        "\n",
        "Min-Max Normalization이 어느정도 Anomaly Detection에서 효과를 보여준다는 걸 보여주는 것으로도 볼 수 있고, 값이 튀는 장치들에 실제로도 보안위협이 들어왔다고 생각할 수도 있을 것 같습니다."
      ]
    },
    {
      "cell_type": "code",
      "execution_count": null,
      "metadata": {
        "id": "juqaryL0G2iN"
      },
      "outputs": [],
      "source": [
        "for i in tqdm(range(VALIDATION_DF.shape[0])):\n",
        "    for j in range(VALIDATION_DF.shape[1]):\n",
        "        if VALIDATION_DF.iloc[i, j] < 0:\n",
        "            VALIDATION_DF.iloc[i, j] = VALIDATION_DF.iloc[i, j] * 2\n",
        "        elif VALIDATION_DF.iloc[i, j] > 1:\n",
        "            VALIDATION_DF.iloc[i, j] = VALIDATION_DF.iloc[i, j] * 2"
      ]
    },
    {
      "cell_type": "code",
      "execution_count": null,
      "metadata": {
        "id": "pCL676UgG2iO"
      },
      "outputs": [],
      "source": [
        "val = VALIDATION_DF.values[np.arange(window_size)[None, :] + np.arange(VALIDATION_DF.shape[0]-window_size)[:, None]]"
      ]
    },
    {
      "cell_type": "code",
      "execution_count": null,
      "metadata": {
        "id": "D53LMPEfG2iO"
      },
      "outputs": [],
      "source": [
        "test_loader = torch.utils.data.DataLoader(data_utils.TensorDataset(\n",
        "    torch.from_numpy(val).float().view(([val.shape[0],w_size]))\n",
        ") , batch_size=BATCH_SIZE, shuffle=False, num_workers=0)"
      ]
    },
    {
      "cell_type": "code",
      "execution_count": null,
      "metadata": {
        "id": "GVNioX4qG2iP"
      },
      "outputs": [],
      "source": [
        "results = testing(model,test_loader)"
      ]
    },
    {
      "cell_type": "code",
      "execution_count": null,
      "metadata": {
        "id": "nyGhP_DZG2iP"
      },
      "outputs": [],
      "source": [
        "labels = [int(label!= 0 ) for label in VALIDATION_DF_RAW[\"attack\"].values]"
      ]
    },
    {
      "cell_type": "code",
      "execution_count": null,
      "metadata": {
        "id": "1PhkKLxVG2iP"
      },
      "outputs": [],
      "source": [
        "y_pred = np.concatenate([torch.stack(results[:-1]).flatten().detach().cpu().numpy(),\n",
        "                              results[-1].flatten().detach().cpu().numpy()])"
      ]
    },
    {
      "cell_type": "code",
      "execution_count": null,
      "metadata": {
        "id": "Q1C8mJW-G2iQ"
      },
      "outputs": [],
      "source": [
        "def check_graph(xs, att, piece=2, THRESHOLD=None):\n",
        "    l = xs.shape[0]\n",
        "    chunk = l // piece\n",
        "    fig, axs = plt.subplots(piece, figsize=(20, 4 * piece))\n",
        "    for i in range(piece):\n",
        "        L = i * chunk\n",
        "        R = min(L + chunk, l)\n",
        "        xticks = range(L, R)\n",
        "        axs[i].plot(xticks, xs[L:R])\n",
        "        if len(xs[L:R]) > 0:\n",
        "            peak = np.max(xs[L:R])\n",
        "            axs[i].plot(xticks, att[L:R] * np.array(peak) * np.array(0.3))\n",
        "        if THRESHOLD!=None:\n",
        "            axs[i].axhline(y=THRESHOLD, color='r')\n",
        "    plt.show()"
      ]
    },
    {
      "cell_type": "code",
      "execution_count": null,
      "metadata": {
        "scrolled": false,
        "id": "uDAmugmlG2iQ"
      },
      "outputs": [],
      "source": [
        "THRESHOLD = 0.11\n",
        "check_graph(y_pred, labels, piece=10, THRESHOLD=THRESHOLD)"
      ]
    },
    {
      "cell_type": "code",
      "execution_count": null,
      "metadata": {
        "id": "5h72ywh5G2iR"
      },
      "outputs": [],
      "source": [
        "def put_labels(distance, threshold):\n",
        "    xs = np.zeros_like(distance)\n",
        "    xs[distance > threshold] = 1\n",
        "    return xs"
      ]
    },
    {
      "cell_type": "code",
      "execution_count": null,
      "metadata": {
        "id": "lXRUZ5NYG2iR"
      },
      "outputs": [],
      "source": [
        "LABELS = put_labels(y_pred, THRESHOLD)\n",
        "LABELS, LABELS.shape"
      ]
    },
    {
      "cell_type": "code",
      "execution_count": null,
      "metadata": {
        "id": "egROYPSAG2iS"
      },
      "outputs": [],
      "source": [
        "a = np.zeros(window_size)\n",
        "LABELS = np.append(a, LABELS, axis=0)"
      ]
    },
    {
      "cell_type": "code",
      "execution_count": null,
      "metadata": {
        "id": "sP19DZu1G2iS"
      },
      "outputs": [],
      "source": [
        "TaPR = etapr.evaluate_haicon(anomalies=labels, predictions=LABELS)\n",
        "print(f\"F1: {TaPR['f1']:.3f} (TaP: {TaPR['TaP']:.3f}, TaR: {TaPR['TaR']:.3f})\")\n",
        "print(f\"# of detected anomalies: {len(TaPR['Detected_Anomalies'])}\")\n",
        "print(f\"Detected anomalies: {TaPR['Detected_Anomalies']}\")"
      ]
    }
  ],
  "metadata": {
    "kernelspec": {
      "display_name": "Python 3",
      "language": "python",
      "name": "python3"
    },
    "language_info": {
      "codemirror_mode": {
        "name": "ipython",
        "version": 3
      },
      "file_extension": ".py",
      "mimetype": "text/x-python",
      "name": "python",
      "nbconvert_exporter": "python",
      "pygments_lexer": "ipython3",
      "version": "3.6.10"
    },
    "colab": {
      "provenance": [],
      "include_colab_link": true
    },
    "accelerator": "GPU",
    "gpuClass": "standard"
  },
  "nbformat": 4,
  "nbformat_minor": 0
}